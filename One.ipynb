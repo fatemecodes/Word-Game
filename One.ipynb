{
 "cells": [
  {
   "cell_type": "code",
   "execution_count": 11,
   "id": "fc117273",
   "metadata": {},
   "outputs": [],
   "source": [
    "import random "
   ]
  },
  {
   "cell_type": "code",
   "execution_count": 12,
   "id": "7a3e346c",
   "metadata": {},
   "outputs": [],
   "source": [
    "game_title = \"Word Gussing \""
   ]
  },
  {
   "cell_type": "code",
   "execution_count": 14,
   "id": "4f05563e",
   "metadata": {},
   "outputs": [],
   "source": [
    "#Make the list of words\n",
    "word_bank = []"
   ]
  },
  {
   "cell_type": "markdown",
   "id": "bd4a81c5",
   "metadata": {},
   "source": [
    "# Open file for loading in the word bank"
   ]
  },
  {
   "cell_type": "code",
   "execution_count": 16,
   "id": "86ba5d43",
   "metadata": {},
   "outputs": [],
   "source": [
    "with open(\"words.txt\") as word_file:\n",
    "    for line in word_file:\n",
    "        word_bank.append(line.rstrip().lower())"
   ]
  },
  {
   "cell_type": "markdown",
   "id": "333893d0",
   "metadata": {},
   "source": [
    "# Select the word to guess"
   ]
  },
  {
   "cell_type": "code",
   "execution_count": 18,
   "id": "b92fd114",
   "metadata": {},
   "outputs": [],
   "source": [
    "# Pick a random word from the list\n",
    "word_to_guess = random.choice(word_bank)"
   ]
  },
  {
   "cell_type": "markdown",
   "id": "16d8b63d",
   "metadata": {},
   "source": [
    "# Define the remaining game variables"
   ]
  },
  {
   "cell_type": "code",
   "execution_count": 19,
   "id": "ddb6c760",
   "metadata": {},
   "outputs": [],
   "source": [
    "# Set up the game variables\n",
    "misplaced_guesses = []\n",
    "incorrect_guesses = []\n",
    "max_turns = 5\n",
    "turns_taken = 0"
   ]
  },
  {
   "cell_type": "markdown",
   "id": "25b20fe8",
   "metadata": {},
   "source": [
    "# Print the current game state"
   ]
  },
  {
   "cell_type": "code",
   "execution_count": 20,
   "id": "ac6c6179",
   "metadata": {},
   "outputs": [
    {
     "name": "stdout",
     "output_type": "stream",
     "text": [
      "Welcome to Word Gussing \n",
      "The word has 9 letters.\n",
      "You have 5 turns left.\n"
     ]
    }
   ],
   "source": [
    "# Display the initial game state\n",
    "print(\"Welcome to\", game_title)\n",
    "print(\"The word has\", len(word_to_guess), \"letters.\")\n",
    "print(\"You have\", max_turns - turns_taken, \"turns left.\")"
   ]
  },
  {
   "cell_type": "markdown",
   "id": "c97e64db",
   "metadata": {},
   "source": [
    "# Build the game loop"
   ]
  },
  {
   "cell_type": "code",
   "execution_count": null,
   "id": "1390deda",
   "metadata": {},
   "outputs": [
    {
     "name": "stdout",
     "output_type": "stream",
     "text": [
      "Guess a word: S\n",
      "Please enter 5-letter word.\n",
      "Guess a word: T\n",
      "Please enter 5-letter word.\n",
      "Guess a word: A\n",
      "Please enter 5-letter word.\n",
      "Guess a word: R\n",
      "Please enter 5-letter word.\n",
      "Guess a word: D\n",
      "Please enter 5-letter word.\n",
      "Guess a word: A,D,R,W,S\n",
      "Please enter 5-letter word.\n",
      "Guess a word: parma\n",
      "Please enter 5-letter word.\n",
      "Guess a word: guess\n",
      "Please enter 5-letter word.\n"
     ]
    }
   ],
   "source": [
    "while turns_taken < max_turns:\n",
    "    # Get the player's guess\n",
    "    guess = input(\"Guess a word: \").lower()\n",
    "\n",
    "    # Check if the guess length equals 5 letters and is all alpha letters\n",
    "    if len(guess) != len(word_to_guess) or not guess.isalpha():\n",
    "        print(\"Please enter 5-letter word.\")\n",
    "        continue\n",
    "\n",
    "    # Check each letter in the guess against the word's letters\n",
    "    index = 0\n",
    "    for c in guess:\n",
    "        if c == word_to_guess[index]:\n",
    "            print(c, end=\" \")\n",
    "            if c in misplaced_guesses:\n",
    "                misplaced_guesses.remove(c)\n",
    "        elif c in word_to_guess:\n",
    "            if c not in misplaced_guesses:\n",
    "                misplaced_guesses.append(c)\n",
    "            print(\"_\", end=\" \")\n",
    "        else:\n",
    "            if c not in incorrect_guesses:\n",
    "                incorrect_guesses.append(c)\n",
    "            print(\"_\", end=\" \")\n",
    "        index += 1\n",
    "\n",
    "    print(\"\\n\")\n",
    "    print(\"Misplaced letters: \", misplaced_guesses)\n",
    "    print(\"Incorrect letters: \", incorrect_guesses)\n",
    "    turns_taken += 1\n",
    "\n",
    "    # Check if the player has won\n",
    "    if guess == word_to_guess:\n",
    "        print(\"Congratulations, you win!\")\n",
    "        break\n",
    "\n",
    "    # Check if the player has lost\n",
    "    if turns_taken == max_turns:\n",
    "        print(\"Sorry, you lost. The word was\", word_to_guess)\n",
    "        break\n",
    "\n",
    "    # Display the number of turns left and ask for another guess\n",
    "    print(\"You have\", max_turns - turns_taken, \"turns left.\")"
   ]
  },
  {
   "cell_type": "code",
   "execution_count": null,
   "id": "6dd39580",
   "metadata": {},
   "outputs": [],
   "source": []
  }
 ],
 "metadata": {
  "kernelspec": {
   "display_name": "Python 3 (ipykernel)",
   "language": "python",
   "name": "python3"
  },
  "language_info": {
   "codemirror_mode": {
    "name": "ipython",
    "version": 3
   },
   "file_extension": ".py",
   "mimetype": "text/x-python",
   "name": "python",
   "nbconvert_exporter": "python",
   "pygments_lexer": "ipython3",
   "version": "3.9.12"
  }
 },
 "nbformat": 4,
 "nbformat_minor": 5
}
